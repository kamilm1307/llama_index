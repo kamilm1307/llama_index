{
 "cells": [
  {
   "cell_type": "markdown",
   "metadata": {},
   "source": [
    "Try out the transcription pack! You can then add it as a data reader for audio files ! "
   ]
  },
  {
   "cell_type": "code",
   "execution_count": null,
   "metadata": {},
   "outputs": [],
   "source": [
    "!pip install llama-index llama-index-packs-llama-tonic"
   ]
  },
  {
   "cell_type": "code",
   "execution_count": null,
   "metadata": {},
   "outputs": [],
   "source": [
    "from llama_index.packs.llama_tonic.transcription import Transcribe\n",
    "\n",
    "def main():\n",
    "    # Initialize the transcriber\n",
    "    transcriber = Transcribe()\n",
    "    \n",
    "    # Path to your audio file\n",
    "    audio_file_path = \"path_to_your_audio_file.wav\"\n",
    "    \n",
    "    # Transcribing the audio file to text\n",
    "    transcribed_text = transcriber.transcribe(audio_file_path)\n",
    "    \n",
    "    # Print the result\n",
    "    print(\"Transcribed Text:\", transcribed_text)\n",
    "\n",
    "if __name__ == \"__main__\":\n",
    "    main()"
   ]
  }
 ],
 "metadata": {
  "kernelspec": {
   "display_name": "Python 3",
   "language": "python",
   "name": "python3"
  },
  "language_info": {
   "codemirror_mode": {
    "name": "ipython",
    "version": 3
   },
   "file_extension": ".py",
   "mimetype": "text/x-python",
   "name": "python",
   "nbconvert_exporter": "python",
   "pygments_lexer": "ipython3",
   "version": "3.12.2"
  }
 },
 "nbformat": 4,
 "nbformat_minor": 2
}
